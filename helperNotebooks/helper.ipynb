{
 "cells": [
  {
   "cell_type": "markdown",
   "id": "8ed26e0f",
   "metadata": {},
   "source": [
    "1. **Text Loader**"
   ]
  },
  {
   "cell_type": "code",
   "execution_count": 18,
   "id": "ac9a11c5",
   "metadata": {},
   "outputs": [],
   "source": [
    "from langchain.document_loaders import TextLoader"
   ]
  },
  {
   "cell_type": "code",
   "execution_count": 19,
   "id": "559a47bd",
   "metadata": {},
   "outputs": [],
   "source": [
    "loader = TextLoader(\"tinyharrypotter.txt\")\n",
    "data = loader.load()"
   ]
  },
  {
   "cell_type": "code",
   "execution_count": 20,
   "id": "f5a80bc8",
   "metadata": {},
   "outputs": [
    {
     "data": {
      "text/plain": [
       "{'lc': 1,\n",
       " 'type': 'constructor',\n",
       " 'id': ['langchain', 'schema', 'document', 'Document'],\n",
       " 'kwargs': {'metadata': {'source': 'tinyharrypotter.txt'},\n",
       "  'page_content': 'Voldemort. Salazar Slytherinâ€™s hair. The man whoâ€™s colors she wore most of her conscious life.\\n\"A fool that pushed the boundaries of magic. But instead he created an abomination of himself\", he hissed with precision in his words.\\nThatâ€™s how she felt most of her life. Like an abomination - the best way to describe it. And Astoria knew, everyone around knew â€“ her existence was unnatural. But Voldemort wasnâ€™t like that. He made that his truth, his reality. He chose that.\\n\"I canâ€™t abandon you. I will have to leave Harry to die, alone. And others. And â€“ \", she stopped and went quiet, biting down the names that almost spilled from her mouth.\"\\n\"Abandon them. It will hurt, but time will mend the wounds and the pain will grow tolerable. There will be other opportunities for happiness. You will have children and you can have them with love. There will be no need to burden them with being an Elroy and all the curses this brings\".\\n\"They will kill you\", Astoria said it the moment the realization came to her, \"I havenâ€™t had the chance to even know you\".\\n\"I am old, Astoria. My life is wasted away already. But I have you, my only child, and I do not wish you to suffer the ways I have. I do not wish you to be an Elroy. Go and enjoy life, be free. I would gladly give my life for that\".\\n\"We cannot escape who we are\", she said as her eyes darkened.\\n\"Yes\", he replied casually as he came towards her, \"Iâ€™ve heard you say that before\".\\n\"How can I leave all of this behind? All of myself, my life â€“ \",\\n\"But you are so young, life is ahead of you!\", Ilay interrupted her with a softness in his voice, \"Do not waste it away on a war that has nothing to do with you\".\\nThere was something very hurt inside of him. He was a Dark Eater, yet Astoria never found him to be evil or cruel. Ilay looked sad. Draco warned her once, a constant reminder that there was danger in her father and being around him, but she never detected any signs of aggression in him.\\nHis cold fingers touched hers. Her body flinched unconscious to the sensation of this coldness. Yet it was nice. Having a father. Having someone care for her. And the possibility of dreams, of living beyond duty. Was this not her deepest secret? A forbidden confession â€“ that she didnâ€™t want this life.\\n\"Yes\", he chuckled, \"This is how your grandfather knew I wonâ€™t fulfill his ambition. He told me I am always cold, that there is no fire inside of me\".\\n\"There Is no fire inside of me as well\", she said bitterly as this was a great failure for her. She knew they all burned, but no flames came to her no matter how much she tried or burned herself. Not in the mind and not in reality.\\n\"Maybe your magic is changing. Maybe you have the possibility to be different\", he said with a beautiful smile on his face.\\n\"I am afraid\", the words came out on their own as her voice trembled, \"I know Iâ€™m going to die young. I always do\".\\n\"I know\", he said as his hand caressed her face, \"You are a beautiful girl. Go and have a beautiful life\".\\nAstoria knew she should feel awkward, but his presence never seemed foreign to her. They werenâ€™t strangers, they had already spent a lifetime together. She knew him from before and the sensation felt familiar. Now he was kind, gentle, softer than her. It only terrified her â€“ the endless possibilities of what was done by life and by her in anotherâ€™s body to cause Ilay to become like this. A killer. A Death Eater.\\n\"I will think it through. I promise\", she said softly as her hands reached for him. He took her in his arms and they stayed like that for a while.\\n\"Nothing has brought more meaning to my life, than seeing you. When I heard you were alive and who you were, how grown you had become, I cried\", he said softly.\\n\"I wish we could spend more time together\".\\n\"I wish for it as well. This wouldâ€™ve been a second chance\".\\n\"Can you come again?\"\\n\"I will try\", he said drily and Astoria instantly caught the lie,  \"Go on now, forget me and go\", he said as he let her go.\\nThere was more. She didnâ€™t hear most of it. Only a single word, a command â€“ \"Live\".\\nTime skipped in seconds. Suddenly she was on the ground next to a rock, crying. It was a while and she cried so much. Tears had dried up on her, yet pain remained.\\n\"He is a good boy\", Nicola said quietly as he helped her off the ground, \"but naive\".\\nHarry seethed silently as he sat listening to the inane chatter of the Great Hall. Every so often, he would catch a part of a conversation- \"he definitely put his name in!â€™ Or \"I heard from Ernie who heard from Hannah who heard from Neville who heard from Ron that he snuck out in the dead of night so he didnâ€™t have to share how he did it with anyone else.â€™ Hermione kept mumbling under her breath about how he should ignore it, but it was getting harder and harder to do so. He had never felt so betrayed.The morning after his name had come out of the Goblet of Fire, he had begged assistance from Professor McGonagall, who had denied him any. \"Iâ€™m sorry Potter, itâ€™s against the rules of the Tournament for any teacher at Hogwarts to help you.\" Clenching his fist, he stood to leave. He wasnâ€™t hungry, he was angry. \"Harry, you need to eat,\" Hermione said, halfheartedly. Without a word, he turned from the table and begun to walk out of the Great Hall. He was almost there when he overheard one of the Beauxbatonâ€™s students from the Ravenclaw table, \"itâ€™s not fair. Why does Hogwarts get a second champion?â€™ Not waiting to hear the reply from the Ravenclaw, he marched out of the Hall and towards the Gryffindor common room.It was blessedly peaceful inside the four walls of Gryffindor tower. Everyone else was enjoying lunch, united against a common enemy. Sure, some Gryffindors had stood by him initially, however, their support was waning. He assumed that seeing as Ron had decided to ignore him, the rest of the Gryffindors assumed Harry had slighted Ron, and in turn, their trust. Screaming into a cushion on the nearest sofa, he looked deeply into the fire. His mind kept drifting back to what he had overheard the French girl say. It wasnâ€™t fair that Hogwarts had two champions. He looked down at his Gryffindor uniform, feeling less a part of a family than he had in over three years. What had McGonagall said before the Sorting? \"Your house will be something like your family within Hogwarts.â€™ He snorted. She had that right. Gryffindors were very similar to the Dursleys. Looking around the common room a final time, he began to make his way to his dorm. His trunk was at the foot of his bed, housing his two most precious items, the Invisibility Cloak that he had inherited from his father and the Marauders Map. Pulling the two items out the trunk, he sat on his bed. He could faintly hear the sound of chatter in the common room. Lunch must be over, he thought morosely. He just wanted to go somewhere he wouldnâ€™t be disturbed while he thought about what to do next. As much as he hated Hogwarts at the moment, he hated the thought of going back to the Dursleyâ€™s more...just. Making a split second decision, he pulled out his wand and muttered \"Reducioâ€™ at his trunk. It shrunk to smaller than a deck of cards and he slipped it into his pocket. Pulling on the invisibility cloak, he edged towards the door.The door to the dorm swung open and Neville, Seamus, Dean and Ron came in, laughing about something Fred and George had just done. Using the noise to cover his footsteps, he slipped through the doorway and down into the common room. The portrait hole kept opening and closing as more and more Gryffindors made their way inside the common room. He easily managed to climb out of the portrait hole without disturbing anyone and without a backward glance, he began walking throughout the halls of Hogwarts.Harry walked aimlessly for a while, using the Map to avoid any students or teachers. He looked until he had made up his mind. He made his way towards the library, knowing without even checking that Hermione would be in there, and sure enough, she was sitting alone amongst a stack of books.\"Psst\" he whispered as quietly as he could. She jumped, tipping over her ink bottle.\"Harry! Donâ€™t DO that\" she hissed, her eyes darting around, looking for Madame Pince.\"Sorry! Itâ€™s just, I really need to talk to you.\"Give me two minutes to clean this up and Iâ€™ll meet you in Myrtles bathroom.\"He silently left the library, thanking his past self for becoming friends with the genius that was Hermione Granger. Myrtles bathroom! Why hadnâ€™t he thought of that? Where better to hide than inside a Chamber only he could get in to? It was genius.He paced the small bathroom, checking his watch every couple of minutes. Finally, Hermione entered and looked around.\"Harry?\" She called, tentatively.He realised he was still wearing the Cloak.\"Sorry, here,\" he replied, taking off the Cloak, then groaning as he heard Myrtleâ€™s singsong voice.\"Oh Harry! You came back!\" She simpered.\"Err- yeah I did. Sorry Myrtle but I was hoping to have a private conversation with Hermione, if you donâ€™t mind.\"He winced as her wail echoed around the small space.\"NOBODY COMES TO VISIT ME!\" She wailed, then dived headfirst into a toilet.\"Charming as ever,\" Hermione muttered.Harry grinned. He felt lighter than he had in days. He had a plan, of sorts.\"So, what did you want to talk to me about?\" She asked, closing the lid of one of the toilets and sitting on it.Harry weighed up how to tell her. He needed her to know he was safe, but he didnâ€™t want her to know everything. If she did, Hermione was more inclined to run straight to a teacher. He licked his lips and begun;\"I am currently enemy number one for the whole school,\" heâ€™s started, holding up his hand to stop the inevitable input from Hermione, \"and Iâ€™m sick of it. Iâ€™ve been entered into this Tournament by someone, and I know you know that, but everyone else seems to think I did enter. If thatâ€™s not enough, WE know Voldemortâ€™s still out there. I wouldnâ€™t be surprised if he entered me. Well, not him exactly, but one of his followers. It could even have been Pettigrew.\" He paused, taking a calming breath and continued.\"I need to focus on surviving. If Iâ€™m around the rest of the school, Iâ€™ll be dodging curses and insults,\" he looked at Hermione who nodded, \"Iâ€™m going to avoid school for the time being. I know classes teach us stuff, but I donâ€™t have time. Iâ€™m going up against students who are so much more ahead of me. I canâ€™t focus on homework, I need to just focus on surviving.\"Hermione nodded again, \"Mind if I speak now?\" She asked.\"Sure, sorry, I didnâ€™t mean to stop you before. I just needed to get it off my chest.\"Itâ€™s fine. I understand. About everything. Thatâ€™s what I was doing in the library. Putting together a list of spells and compiling information about past Tournaments,\" she said, proffering a sheet of parchment to Harry. Harry was stunned.\"Hermione, wow, you didnâ€™t need to-\" He begun, but this time it was Hermione who raised her hand to silence him.\"I do. Youâ€™re my best friend, Harry. You need to survive this thing. And Iâ€™ll talk to Ron.\" At this, Harry couldnâ€™t stay silent.\"No. Donâ€™t talk to him. Heâ€™s too busy spreading rumours.\"Hermione went to say something then stopped herself. \"Boys,\" she muttered instead, then more clearly, \"Youâ€™ll have to see him every night though, you know. And youâ€™ll probably get about a hundred detentions from all the classes youâ€™ll miss.\"Harry grinned, \"no I wonâ€™t. Iâ€™m not staying in the dorms anymore. Iâ€™ve had a better idea.\"Her eyes narrowed.\"Iâ€™m staying here!\" He declared, holding his arms out to indicate the bathroom.\"Erm, sorry Harry but as much as Myrtle loves you, she canâ€™t stop others from coming in here.\"Not here here. There,\" he said, eyeing the sink with the little snake etched into the tap.Hermione paled, \"You canâ€™t! Oh Harry!\"I can, and I will,\" he said stubbornly.\"Isnâ€™t there a great giant dead Basilisk down there? How will you eat? What on earth are you thinking!\"Iâ€™ve thought of that. Ahem, Dobby,\" he said, praying Dobby would obey. He was technically under Dumbledoreâ€™s employ.Hermioneâ€™s eyes widened as Dobby appeared, hands covered in soap suds.\"Harry Potter has called for Dobby! Dobby is so pleased!\" He exclaimed and lunged at Harryâ€™s ankles.\"Dobby, Dobby get off me!\" Harry said, pulling away from the house elf.Dobby stood up, proudly displaying his Hogwarts uniform. \"Does Harry Potter like Dobbyâ€™s new outfit?\"Itâ€™s great\" Harry said, \"But, umm, I was wondering if instead of working for Hogwarts, youâ€™d like to work for me? Paid of course\" He added hurriedly.Harry and Hermione looked at each other as Dobby begun to wail, loudly.\"Dobby, Dobby, are you alright? You donâ€™t have to, it was just an idea,\" Harry said, trying to quieten the elf.\"Dobby would be honoured!\" He exclaimed, crying violently.\"Okay, great. How does this work?\"Dobby straightened himself. \"With Harry Potters permission, Dobby will resign from Hogwarts and begin straight away.\"I mean, if you can do that, that would be great. Could you not tell Professor Dumbledore youâ€™re going to be working for me?\"Dobby will do it right away,\" he said and in a click of his fingers, he was gone.\"A house elf!\" Hermione began.\"Donâ€™t start. Iâ€™ll pay him. You saw how happy he was at the idea of working for me\" Harry said, snappily.\"Fine. Iâ€™m not happy about it, but fine.\"Neither am I! I would much prefer to have to do none of this! But because of this STUPID Tournament, this is what I have to do!\"I know, Iâ€™m sorry\" Hermione soothed, raising from the toilet she had been sitting on.\"You better get back. You know where I am and what Iâ€™ll be doing. If you need me, call Dobby and heâ€™ll let me know. Iâ€™ll tell him to answer to you as well.\"Harry, Iâ€™m here for you,\" she said.\"I know. I appreciate everything,\" he said, waving the parchment, \"But you donâ€™t have to be tangled up in this. Just do me one favour.\"Yes?\"Please donâ€™t tell anyone where I am. I know theyâ€™ll be worried, but as long as you know Iâ€™m okay, donâ€™t let them bully you into telling them.\"I wonâ€™t,\" Hermione promised, \"Iâ€™ll see you soon.\" Hermione shut the bathroom door behind her.Taking a long breath, Harry turned to the sink, to the entrance to the Chamber of Secrets.\"Open.\"\\nHarry grinned at Dobby as they surveyed the Chamber of Secrets. The space had been transformed over the last two days. Together, they had removed the dead Basilisk and cleaned the chamber within an inch of its life. They had explored every nook and cranny of the space, finding nothing but dead rodent skeletons and muck. Harry had then asked Dobby to begin setting up a potions lab and kitchen in one part of the chamber, while he began learning the transfiguration required to create a \"homeâ€™ of sorts. He had transfigured rocks into a bed and begun decorating the space in black and silver tones. The only snag he had found was his lack of ability to create a washroom, which had thankfully been solved with Dobbyâ€™s house elf magic. Dobby had also begun to procure food and potions supplies from Dragon Alley, allowing Harry to cook for himself and Dobby, as well as begin making a small selection of healing potions.\"Is Harry Potter happy?\" Dobby asked.\"Harry Potter is very happy,\" Harry agreed.\"Can Dobby do anything right now for Harry Potter?\"Harry was about to say there was nothing left for Dobby to do currently, before an idea came to him.\"Dobby. Do you think you can bring someone down here?\"What do you mean?\" He asked, clearly confused. The past two days Harry had spent ranting about almost everybody at Hogwarts.\"My godfather. He went abroad recently, as heâ€™s a wanted criminal. But I donâ€™t think I can face this Tournament without him.\"Dobby nodded eagerly. \"Does Harry Potter mean Mister Sirius Black?\"Thatâ€™s him,\" Harry affirmed.\"Dobby can do that right away. Dobby does not know exactly where Harry Potterâ€™s godfather is, but Dobby knows how to find people.\"Not just yet,\" Harry said, chuckling slightly at Dobbyâ€™s eagerness, \"Let me write a few notes. In the meantime, do you think you can get me enough food and potions supplies to last while youâ€™ll be away?\"Dobby nodded and disappeared.Harry laughed again at the elfâ€™s eagerness and sat at the writing desk he had magicked for himself.Dear Padfoot,I donâ€™t know exactly where you are, or even if Dobby will be able to find you. Dobby is the house elf who will deliver this message by the way. Iâ€™m not sure if youâ€™ve heard the latest news but Iâ€™ve been entered into the Triwizard Tournament as the fourth champion. I didnâ€™t enter myself! I swear on my life. But everybody at Hogwarts seems to think I did. With the help of Dobby, Iâ€™ve effectively left school. I donâ€™t want to say where I am incase this letter is intercepted, but if you receive this, please go with Dobby. Heâ€™ll bring you to me.I need you, Padfoot. More than I ever have before.From,HarryHarry folded the letter neatly then started writing again;Hermione,Dobby is going away for a few days to find me a pet dog. If you have anything you need to tell me, could you give it to Dobby before he goes?I hope youâ€™re doing okay. Iâ€™m okay.Speak soon,HarryHarry leant back in his chair and smiled. Hopefully Dobby wouldnâ€™t take too long to get back with Sirius, and Harry and he could work together on a plan to get himself out of this mess.Rather than sit idly by and wait for Dobby to return with food, Harry picked up the list of spells Hermione had written for him. He hadnâ€™t had too much time to study, spending most of his time working on setting up the Chamber to a liveable standard. Accio seemed interesting, Harry thought. He picked up his wand and went to the large open space he had reserved for spell practice.An hour later, Dobby reappeared. He had bought enough food to feed a small army, or Ron for a weekend, Harry thought, then chastised himself. He wouldnâ€™t think about Ron fondly.\"Wow Dobby, youâ€™ve outdone yourself. I hope this doesnâ€™t mean youâ€™ll be gone for weeks,\" he said, gulping down a bottle of water.\"No Harry Potter, Dobby just likes to be prepared.\"Thanks, Dobby. Iâ€™ve got a letter here for Hermione and one for Sirius. Could you give this to Hermione without being seen. You might need to wait a while, she may need to reply. Once youâ€™ve done that...\" Harry trailed off.\"Once Miss Hermione has her letter, Dobby will come back with her reply and leave again to find Harry Potters godfather.\"Thanks again, Dobby\" Harry said, handing him both of the letters, \"Iâ€™ll see you soon with Hermioneâ€™s reply. If thereâ€™s no reply, I guess Iâ€™ll see you with Sirius.Dobby took the letters and left, leaving Harry alone again. He sighed. He hadnâ€™t got anywhere with Accio. Deciding a break was needed, Harry unpacked the food and potions supplies, moving them to their rightful area.Just as he was considering what to do next, Dobby reappeared, holding out a letter.\"From Miss Hermione,\" he said proudly.\"Thanks,\" Harry said, taking the letter.\"Dobby is going now, Harry Potter. Dobby will see you soon.\"Harry took a moment to process that Sirius may soon be staying with him, then moved over to the sofa and opened the letter from Hermione.Harry,Firstly, please tell Dobby to not appear in the bathroom next time. I know you told him to wait until I was alone, but he needs to respect boundaries.Harry snorted at this and continued reading.The whole school is in bedlam. Shortly after I got back to the common room, Ron noticed your trunk had gone. He alerted Professor McGonagall who alerted Professor Dumbledore who closed down the school. Theyâ€™re searching everywhere. Theyâ€™ve questioned me three times so far, but I told them I had no idea where you had gone. Itâ€™s so hard acting stressed when I know exactly where you are. Viktor Krum told them he had seen me in the library the whole afternoon. I have no idea why he would lie for me? Do you mind if I ask him? Iâ€™ll only ask him when heâ€™s alone, without his following of giggling girls.Apparently, aside from hoping you havenâ€™t been kidnapped, thereâ€™s extra stress as thereâ€™s a weighing of the wands ceremony on Friday. The press will be there and itâ€™s an official part of the Tournament. A wand maker (probably Ollivander) will check each of the Champions wands to make sure theyâ€™re in working order. You will need to go. What are you going to do? Donâ€™t do anything too reactive!Iâ€™m so glad youâ€™re going to be with Sirius. What a great idea. Someone who can teach you spells and will support you the whole time.Finally, and this is the most important part of my letter. Ronâ€™s heard from Charlie. Apparently heâ€™s coming for the First task. At first I wondered why Ron was telling me this, but then I remembered where Charlie works. With Dragonâ€™s in Romania! I let it slip to Hagrid who, as you know, canâ€™t keep his mouth shut, and apparently, the task is to retrieve an egg from a dragon! Iâ€™ve written down a list of spells that will help you with this.Oh Harry, Iâ€™m so worried. When Dobby returns with your new pet, get him to come and get me please. Iâ€™ll feel better once Iâ€™ve spoken to you face-to-face.See you soon (I hope)HermioneHarry glanced down at the list of spells Hermione had mentioned, including a Conjunctivitis Curse and a Glacier spell. A dragon! What was Dumbledore thinking. And the weighing of the wands! Heâ€™ll have to face them. Hermione was right, theyâ€™ll put him in detention for a hundred years.Harry picked up his wand and transfigured a rock into a sofa and begun hurling spells at it in frustration. He felt tears stinging his eyes and blinked hurriedly. He would not cry! He was going to win. He just needed a plan. And Sirius, he needed Sirius.After two hours of spell casting and countless sofarocks and he had begun to call them in his head, Harry called it a day. He showered, changed and was just deciding what to eat when he heard Dobby return.\"Where are-HARRY!\" Sirius boomed, running up and scooping Harry in a bear hug.\"Sirius\" Harry sobbed, and finally let the tears come.After a cup of tea and some toast, Harry showed Sirius Hermioneâ€™s letter. He watched as Siriusâ€™ pale face became paler.\"I heard through the grapevine you had been entered. I knew I needed to get back as soon as possible. Your timing, Dobby couldnâ€™t have been better,\" Sirius said, smiling at Dobby.Dobby beamed at the praise.\"I had just arrived at a cave in Hogsmeade when Dobby arrived. I was going to see if I could floo call you, but this is so much better than the floo.\"Harry nodded, dread filling his stomach again. How could Sirius help him? He was a wanted man. And because of Harryâ€™s selfishness, he had brought him to Hogwarts! A place probably teeming with Aurors.\"Sirius, Iâ€™m sorry!\"What are you sorry for? Iâ€™m sorry! Iâ€™m sorry for everything.\"Itâ€™s not your fault,\" Harry sighed, \"I think Voldemortâ€™s got my name into the Tournament.\"Sirius frowned. He and Harry needed to have a long conversation about the past, once Harry survived this damn Tournament.\"I think so too. Whatâ€™s been happening at Hogwarts? Obviously youâ€™ve been entered, but aside from that?\"Harry filled him in about the changes to Hogwarts this year, about Moody and the two schools and their headmistresses, about the judges and press being on site.\"It could have been anyone. I knew Moody from years back. Heâ€™s a damned good Auror. If anyone is going to get to the bottom of it, he will. Dumbledore must have known something was going to happen, asking Moody to come and teach. I imagine it was just Karkaroff, but now Iâ€™m not so sure.\"Karkaroff?\" Harry asked, confused.Sirius grunted. \"Heâ€™s a Death Eater. And a coward. Once he was caught, he sold out other Death Eaters, including Barty Crouchâ€™s son.\"Harryâ€™s mouth dropped open. \"Barty Crouchâ€™s son is a Death Eater?\"Sirius nodded gravely, \"One of the worst. He tortured the Longbottomâ€™s into insanity. Well, him and my cousin Bellatrix,\" he added darkly.Harryâ€™s head was spinning. Nevilleâ€™s parents were tortured into insanity. Poor Neville. Harry didnâ€™t know what was worse, having your parents be dead or insane? He swallowed hard.\"What happened to Crouchâ€™s son?\"Siriusâ€™ eyes became haunted. \"He died in Azkaban shortly after he was sentenced. Crouch and his wife visited him just before he died.\"Oh,\" Harry said, shocked at the revelations.\"Thatâ€™s not all. Barty Crouch was the one who put me into prison without a trial,\" Sirius growled.Harry felt sick. He had seen the man, spent time with him. And he was the reason Harry had grown up with the Dursleys? Anger clouded Harryâ€™s face.\"I hate him,\" Harry spat.\"Join the club,\" Sirius said, relaxing slightly.Harry sighed heavily. \"What am I going to do?\"Weâ€™ll think of something,\" Sirius said, ruffling Harryâ€™s hair, \"Something magnificent.\"\\nHARRY POTTER LEAVES HOGWARTS, CLAIMS SIRIUS BLACK IS INNOCENT\\nBy Rita Skeeter\\nYes, Dear Readers, you read that correctly. Harry Potter has left Hogwarts and he claims Sirius Black is innocent. In a public letter sent directly to us here at The Daily Prophet, Harry Potter has sensationally left Hogwarts School of Witchcraft and Wizardry and is calling for the Ministerial pardon of Sirius Black. Read his letter, unedited, below:\\nDear the Wizarding Public of Great Britain,I did not enter the Triwizard Tournament. You may choose to believe me, you may choose to ignore me. I donâ€™t care anymore. Ever since I learned about Hogwarts, about magic, I felt a sense of belonging that had been missing from my life beforehand. It was at Hogwarts I found friends. Friends I thought I could trust. It was also at Hogwarts I found family.The general Hogwarts population have decided Iâ€™m not their Champion. Thatâ€™s fine. I never wanted to be anyway. Cedric Diggory is a fair man and I would have supported him along with my fellow students. I will still support him, along with Fleur and Viktor. They chose to enter the Tournament, and they deserve your support. It isnâ€™t fair for Cedric to have his moment in the spotlight taken from him.I have decided, to ensure Cedric gets the support of the Hogwarts students and staff, to withdraw from Hogwarts School of Witchcraft and Wizardry. I will instead enter the Triwizard Tournament under a new school, The School of Black.The School of Black is a name I devised to honour my Godfather, Sirius Black. Sirius Black is innocent. I know this. I saw Peter Pettigrew with my own eyes. I heard the story. Of course, you may think me hoodwinked. You might think Sirius Black cursed me. You would be wrong.Sirius Black and Peter Pettigrew swapped positions as the Secret Keeper of my parent\\'s home. My parents trusted the wrong man. Sirius turned up at my parents home that Halloween, fearing something was wrong. He hadnâ€™t heard from Peter that day, and, concerned, he went to visit my parents. What he saw broke him. I know that. He found me alive, and shortly after, Hagrid arrived under Dumbledoreâ€™s orders to take me somewhere safe. Sirius lent him his old motorbike and Hagrid delivered me to the safe house. Sirius then, misguidedly, sought revenge. He realised Peter Pettigrew had betrayed my parents and hunted him. He cornered Peter and, contrary to the published version of events, did not \"blow him up,\" but instead tried to reason with him. Peter Pettigrew, an illegal rat animagus, cut his own finger off, blew up the street and transformed into a rat. This story sounds farfetched, but believe me. It is true.All I ask is for Minister Fudge to look into Sirius Blackâ€™s trial. He wonâ€™t find anything. Barty Crouch sentenced Sirius Black to Azkaban without one. Minister Fudge, I implore you to look into the mistakes of the previous administration. I know it was not under your guidance that Sirius Black was imprisoned, but I ask you, as the Boy Who Lived, to please, seek justice for my Godfather.I will attend the weighing of the wands under the proviso it is not on Hogwarts grounds. I will participate in the Triwizard Tournament under The School of Black. I did not enter this Tournament, but whoever did has made a grave mistake. I intend to win. Iâ€™m done hiding. I am the defeater of [He-Who-Must-Not-Be-Named], I can win this Tournament.Best Wishes,HarryAs a journalist, I took it upon myself to verify Harry Potter\\'s claims surrounding Sirius Black. Sirius Black never had a trial, and for that, I am shocked. The Black family is an Ancient and Noble one, and for Sirius Black to have been sentenced to life in Azkaban without a trial is something I personally do not understand. As Harry notes, this was agreed to under the previous administration, and something Minister Fudge needs to rectify. As, if someone, as Noble and Sirius Black can be sent to Azkaban without a trial, it could happen to any of us. If what Harry writes here is true, a grave miscarriage of justice has occurred.I for one, dear reader, believe Harry Potter. If he says he did not enter the Tournament, then he didnâ€™t!A spokesperson for Minister Fudge said the DMLE is looking into Harry Potter\\'s claims surrounding Sirius Black.Hogwarts Headmaster Albus Dumbledore had this to say when we asked him for a comment:Harry, I implore you to rethink your decision. Hogwarts is the school your parents enrolled you in. They would want you here, representing Hogwarts, alongside Cedric Diggory.Ludo Bagman, spokesperson for Mr. Crouch said this: Of course, we are happy to oblige Mister Potter. The weighing of the wands ceremony will now be held in Diagon Alley on Saturday at 10 AM. All are welcome.\\nHarry and Sirius had spoken long into the night and into the next morning. Their voices were hoarse from crying and laughing and crying some more. They had much to catch up on. Harry filled Sirius in on his first three years at Hogwarts, as well his life with the Dursleyâ€™s. Sirius had vowed to him that he would never let Harry return to the Dursleyâ€™s again. Sirius then told Harry all about his home life, his years at Hogwarts and Azkaban. Harry had been horrified at the family Sirius had grown up with, however, his pride at hearing how his grandparents had taken him in as if Sirius was one of their own had overtaken his anger.\\nFeeling lighter having \"cleared the airâ€™, and gotten to know each other much better, Harry and Sirius begun to plan. The letter to the Daily Prophet had been one of Siriusâ€™ ideas. He explained that while Harry was still the \"Boy Who Livedâ€™ in the public\\'s eye, he could do no wrong. Using the Wizarding public to his advantage had never crossed Harryâ€™s mind, but, together, as they wrote the public letter, Harry realised it made sense.Sirius also had the idea to move their base operations to his old family home, Grimmauld Place. As a teen, he had vowed to never step foot back in the house, however, with the death of his family, he knew the house\\'s ownership now belonged to him. It would be a safe house unlike any other, he reasoned. If there was one thing he could thank his Black ancestors for, it was their paranoia leading to one of the most secure properties in the world. Harry had sent Dobby to scout the house, who had returned shortly after, eyes wide.\\n\"Harry Potter, Dobby went to the house like you asked.\"\\nHarry and Sirius had been trying to catch up on the sleep they had lost the night before and woke up with a start.\\n\"How is it?\" Sirius asked, \"Filled with Dark magic?\"\\nDobby nodded, \"And the worst house elf.\"\\nSirius laughed, \"Kreacher, of course. I bet he hasnâ€™t done a bit of cleaning since my Darling Mother died?\"\\nDobby shook his head so violently his ears began flapping.\\n\"I wonder if I can summon Kreacher here?\"\\n\"Worth a shot,\" Harry shrugged.\\n\"Kreacher\" Sirius said, clearly.\\nThere was a moments pause before, with the loudest \"crackâ€™, the dirtiest house elf Harry had ever seen appeared.With a look of disgust on his wrinkly face, he bowed his head slightly.\\n\"Master called.\"\\nSiriusâ€™ face echoed the look of disgust on Kreacher\\'s.\\n\"You disgust me. Iâ€™ve heard that youâ€™ve let the house of the Ancient and Noble House of Black fall into disarray. You have one day, with the assistance of Dobby, to clean it up and have it in a condition my Mother would be proud of. I will arrive this time tomorrow. If it is not up to standard, it will mean clothes. You are not to speak to anyone else. You may not communicate to anyone but me, Harry Potter and Dobby. Do you understand me?\"\\nKreacher nodded is disgust and disappeared with another loud \"crack.â€™\\n\"Dobby, Iâ€™m sorry to send you there, but I need a trustworthy elf to watch over him. Heâ€™s always hated me and worshipped my mother, so heâ€™s bound to try and tamper with something.\"\\n\"Dobby understands. Dobby will have the House of Black up to standard.\"\\nAs Dobby vanished, Sirius sighed heavily.\\n\"I donâ€™t want to go back there, especially with all the dark magic around the place, but itâ€™s got to be better than sitting here.\"\\nHarry agreed, then yawned loudly.\\n\"Right, to bed,\" Sirius said with authority.\\n\"But we need to plan for the task with the dragon!\" He exclaimed, stifling another yawn.\\n\"And we will. But planning will be much easier with a clear head.\"\\nHarry reluctantly agreed and headed for the bed he transfigured.\\n\"Where will you sleep?\" He asked.\\nInstead of answering, Sirius transformed into Padfoot and jumped up on the bed, lying at the foot of it.\\nHarry grinned and jumped into bed.\\nTomorrow, they would plan. Today and tonight they would sleep.â€”â€”â€”â€”â€”â€”â€”â€”Hermione sat alone at the Gryffindor table, worrying. She hadnâ€™t heard from Harry at all today. She wanted to know if Dobby had managed to track Sirius. She wanted to know if Harry had found a plan to combat the dragon. She needed to make sure he was okay. Sighing, she glanced at Ron who was holding court with Seamus, Dean and Neville. He really had turned his back quickly on his \"best mate.â€™ Sure, he had told Hermione about the dragon, but had he known she was in contact with Harry? Or had he just told her to share the burden with her?Her thoughts were interrupted as owls began circling the ceiling of the Great Hall, searching for their owners. All had a copy of the Daily Prophet clutched in their claws. One newspaper dropped in front of her and she rushed to open it.The headline made her catch her breath.\\n\"Oh Harry,\" she moaned, looking around at the rest of the Hall. There was silence as every student and teacher begun reading the article, then slowly, chatter broke out. Hermione strained to catch snippets of what people were saying, Harry would want to know.\\n\"Sirius Black never had a trial! Thatâ€™s an outrage!\" She heard from the Ravenclaw table.\\n\"You know, maybe he didnâ€™t put his name in the Goblet\" She heard from further up the Gryffindor table.\\n\"Heâ€™s dropped out of Hogwarts!\" She heard from the staff table.\\n\"More attention, thatâ€™s all heâ€™s after,\" she heard from the Hufflepuff table and scowled towards the voice.\\nHermione looked up the Gryffindor table at Ron. He was sitting, pale-faced, reading the article. He must have felt her eyes on him, because he looked up and locked eyes with her. His guilt was written all over his face. She smiled at him, slightly. He indicated his head towards the exit and she nodded. She stood up, taking her copy of the Prophet with her and went to meet Ron in the entrance hall.Ron met her at the entrance hall.\\n\"Did you know about this?\" He asked, his voice raised.\\n\"Donâ€™t yell at me! No, of course I didnâ€™t. As if Iâ€™d tell Harry to leave school.\"\\nRon visibly calmed himself.\\n\"Youâ€™re right, Iâ€™m sorry. Iâ€™m just shocked.\"\\nHermione mellowed, \"Me too. I hope heâ€™s okay.\"\\nRon swallowed. \"Me too. I mean, heâ€™s obviously alive. I hope heâ€™s with Sirius.\"\\nHermione struggled to keep her face straight.\\n\"How he found Sirius, I have no idea.\"\\n\"Heâ€™s resourceful,\" Ron said, simply and Hermione had to agree.\\nThey both turned as the rest of the students began piling out of the Great Hall, still urgently discussing the article. Listening intently, Hermione had to agree that Harryâ€™s drastic and dramatic antics had seemed to have the desired effect. Public opinion was swaying in his favour, and she heard more than one student mention writing to their parents about Siriusâ€™ lack of trial.\\n\"I wonder if I can join The School of Black?\" She heard an excited Colin Creevey ask aloud.\\nRon snorted, and Hermione smiled. Maybe things would turn out okay.',\n",
       "  'type': 'Document'}}"
      ]
     },
     "execution_count": 20,
     "metadata": {},
     "output_type": "execute_result"
    }
   ],
   "source": [
    "data[0].to_json()"
   ]
  },
  {
   "cell_type": "code",
   "execution_count": 21,
   "id": "4769bcb7",
   "metadata": {},
   "outputs": [],
   "source": [
    "from langchain.document_loaders import UnstructuredURLLoader"
   ]
  },
  {
   "cell_type": "code",
   "execution_count": 22,
   "id": "ca908816",
   "metadata": {},
   "outputs": [],
   "source": [
    "loader = UnstructuredURLLoader(\n",
    "    urls=[\"https://economictimes.indiatimes.com/news/international/global-trends/us-news-dan-browns-next-thriller-the-secret-of-secrets-published-september-9/articleshow/117697275.cms\"]\n",
    ")\n",
    "data = loader.load()"
   ]
  },
  {
   "cell_type": "code",
   "execution_count": 23,
   "id": "0ab20002",
   "metadata": {},
   "outputs": [
    {
     "data": {
      "text/plain": [
       "'Benchmarks\\n\\nNifty24,826.20-174.96\\n\\nFEATURED FUNDS\\n\\n★★★★★\\n\\nUTI Aggressive Hybrid Fund Regular Plan-Growth\\n\\n5Y Return\\n\\n24.05 %\\n\\nInvest Now\\n\\nFEATURED FUNDS\\n\\n★★★★★\\n\\nHSBC Large Cap Fund Direct-Growth\\n\\n5Y Return\\n\\n22.92 %\\n\\nInvest Now\\n\\nThe Economic Times\\n\\nNews\\n\\nEnglish EditionEnglish Editionहिन्दीગુજરાતીमराठीবাংলাಕನ್ನಡമലയാളംதமிழ்తెలుగు\\n\\n| Today\\'s ePaper\\n\\nMy Watchlist Subscribe\\n\\nSign In\\n\\nBusiness News›News›International›Global Trends›Dan Brown\\'s next thriller, \\'The Secret of Secrets,\\' to be published on this date. Check details\\n\\nThe Economic Times daily newspaper is available online now.\\n\\nRead Today\\'s Paper\\n\\nDan Brown\\'s next thriller, \\'The Secret of Secrets,\\' to be published on this date. Check details\\n\\nSECTIONS\\n\\nDan Brown\\'s next thriller, \\'The Secret of Secrets,\\' to be published on this date. Check details\\n\\nBy APLast Updated: Jan 29, 2025, 09:46:00 PM IST\\n\\nRate Story\\n\\nWhatsapp Follow Channel\\n\\nFollow us\\n\\nShare\\n\\nFont Size\\n\\nAbcSmall\\n\\nAbcMedium\\n\\nAbcLarge\\n\\nSave\\n\\nPrint\\n\\nComment\\n\\nSynopsis\\n\\nDan Brown\\'s upcoming thriller, \"The Secret of Secrets,\" follows Robert Langdon across Prague, New York, and London as he evades an assassin and delves into human consciousness. The novel entails a murder at a lecture by noetic scientist Katherine Solomon, prompting Langdon\\'s quest. Releasing on Sept. 9, the book promises an intricate plot, intertwining futuristic science and mystical lore.\\n\\nDan Brown\\' s next global, multi-tiered thriller finds protagonist Robert Langdon journeying from Prague to New York to London as he evades a would-be assassin and ponders the depths of human consciousness. Doubleday announced Wednesday that \"The Secret of Secrets,\" his first Langdon novel since \"Origin\" came out in 2017, will be published Sept. 9. Brown, best known for the blockbuster \"The Da Vinci Code,\" is calling it his \"most intricately plotted and ambitious novel.\"\\n\\n\"Writing it has been an unforgettable journey of discovery,\" he said in a statement.\\n\\nBrown\\'s new novel begins with Langdon, the Harvard symbologist, in Prague. According to Doubleday, he plans to see a lecture by noetic scientist and emerging love interest Katherine Solomon, only to have her talk become a murder scene and for Solomon to disappear. ALSO READ: California to become an independent country and leave US? A big initiative is already cleared\\n\\nET logo\\n\\nLive Events\\n\\n\"As the plot expands into London and New York, Langdon desperately searches for Katherine . . . and for answers,\" Doubleday announced. \"In a thrilling race through the dual worlds of futuristic science and mystical lore, he uncovers a shocking truth about a secret project that will forever change the way we think about the human mind.\"\\n\\nBrown has set previous books in France, Italy and Spain among other countries and researches his locations in person. He said in a statement that his fascination with Prague \"began with its deep history of mysticism and the occult. It is a labyrinth of enigmatic sites - an ideal backdrop for a Robert Langdon thriller -- a city of secrets, both ancient and modern.\"\\n\\nBrown added that \"The Secret of Secrets\" was also a chance to indulge another longtime obsession - the mind itself. ALSO READ: Justin Baldoni, Blake Lively exchanged \\'affectionate\\' messages before things took a U-turn? All details \"I happen to believe we are on the cusp of a major revolution in the way we think about our brains and our relationships to each other,\" he said. \"Cutting-edge science is now exploring advanced models of consciousness that seem poised to explain some of the mind\\'s deepest mysteries. I chose this topic because I find it irresistibly compelling, and also because it is relevant to every single one of us.\" Doubleday plans to release the book in at least a dozen countries, including Czech Republic, Turkey, Spain and Finland. Brown\\'s other novels include \"Angels & Demons,\" \"The Lost Symbol\" and \"Inferno.\"\\n\\n(You can now subscribe to our Economic Times WhatsApp channel)\\n\\nRead More News on\\n\\nThe Secret of SecretsDan BrownRobert LangdonDan Brown newsDan Brown new thrillerDan Brown the secret of secretsdan brown the secret of secrets publishing datedan brown next bookthe da vinci codedan brown origin\\n\\n(Catch all the Business News, Breaking News, Budget 2025 Events and Latest News Updates on The Economic Times.)\\n\\nSubscribe to The Economic Times Prime and read the ET ePaper online.\\n\\n...moreless\\n\\n(You can now subscribe to our Economic Times WhatsApp channel)\\n\\nRead More News on\\n\\nThe Secret of SecretsDan BrownRobert LangdonDan Brown newsDan Brown new thrillerDan Brown the secret of secretsdan brown the secret of secrets publishing datedan brown next bookthe da vinci codedan brown origin\\n\\n(Catch all the Business News, Breaking News, Budget 2025 Events and Latest News Updates on The Economic Times.)\\n\\nSubscribe to The Economic Times Prime and read the ET ePaper online.\\n\\n...moreless\\n\\nPrime ExclusivesInvestment IdeasStock Report PlusePaperWealth Edition\\n\\nET Prime Unicorn 100: Growth slowed for India’s leading startups:Image\\n\\nET Prime Unicorn 100: Growth slowed for India’s leading startups\\n\\nUncle Sam vs. Microsoft: Which is a safer bet to park money?:Image\\n\\nUncle Sam vs. Microsoft: Which is a safer bet to park money?\\n\\nET Prime Unicorn 100: A fifth of Indian unicorns saw revenue decline:Image\\n\\nET Prime Unicorn 100: A fifth of Indian unicorns saw revenue decline\\n\\nHow this century-old Tata company is getting ready for the next 100:Image\\n\\nHow this century-old Tata company is getting ready for the next 100\\n\\nThe BrahMos link that fired up this defence stock 45% in one month:Image\\n\\nThe BrahMos link that fired up this defence stock 45% in one month\\n\\nStock Radar: SBI Life breaks out from a Pennant formation on daily charts; what :Image\\n\\nStock Radar: SBI Life breaks out from a Pennant formation on daily charts; what should investors do?\\n\\n1\\n\\n2\\n\\n3\\n\\nView all Stories\\n\\nVideos\\n\\nImage for Tech layoffs surge | Market bleeds again\\n\\nTech layoffs surge | Market bleeds again\\n\\nImage for RFK Jr. ends COVID-19 vaccine recommendation for...\\n\\nRFK Jr. ends COVID-19 vaccine recommendation for...\\n\\nImage for Rubio calls out China for \\'siphoning\\' US tech\\n\\nRubio calls out China for \\'siphoning\\' US tech\\n\\nImage for Eyewitnesses recount horror of Liverpool parade crash\\n\\nEyewitnesses recount horror of Liverpool parade crash\\n\\nImage for Is King Charles the \\'Trump Whisperer?\\'\\n\\nIs King Charles the \\'Trump Whisperer?\\'\\n\\nImage for Lavrov rips into Europe over Ukraine war\\n\\nLavrov rips into Europe over Ukraine war\\n\\nImage for King Charles in Canada: Carney\\'s first speech in Parliament\\n\\nKing Charles in Canada: Carney\\'s first speech in Parliament\\n\\nImage for Is Trump targeting Harvard because it rejected Barron?\\n\\nIs Trump targeting Harvard because it rejected Barron?\\n\\nImage for Trump-BiBi \\'fight\\': All is not well btw old friends?\\n\\nTrump-BiBi \\'fight\\': All is not well btw old friends?\\n\\nImage for Sen Moreno grills Hawaii Gov. over COVID lockdowns\\n\\nSen Moreno grills Hawaii Gov. over COVID lockdowns\\n\\n1\\n\\n2\\n\\n3\\n\\nLatest from ET\\n\\nUS halts student visa interviews amid social media screening plans\\n\\nErdogan & family guiding Turkey-Pakistan axis\\n\\nCan Ambani do mutual fund magic with Aladdin?\\n\\nTrending World News\\n\\nElden Ring: Nightreignarabella stantonSSI June 2025 paymentNYT Connections today hints and answers\\n\\nU.S. stock market futures today Top gainer top LosersCharles Rangel diefrench president wifeApple stock falls\\n\\nMarvel Rivals Season 2.5 updateTrump Big Beautiful BillSan Diego plane crashbaba vanga\\n\\nNYT Strands hints and answerStranger Things Season 5Covid 19Bitcoin price today BTC\\n\\nNYT Connections today hints and answersGold Price TodayWordle today answer and HintsU.S. stock market\\n\\nOil Price FallNYT ConnectionsToday Wordle answerReal id\\n\\nangel numbers\\n\\nThe Economic Times\\n\\nThe Economic Times\\n\\nHot on Web\\n\\nMORE\\n\\nJAC 10th Result Livearabella stantonConfidential IPOSSIU.S. stock market futures todayITR filing last date extendedIncome Tax ReturnWhy is stock market falling todayOlectra Greentech Share PriceBorana Weaves Share PriceSensex Today LIVE UpdatesMumbai Rains Live Updatesmacron wifeRBSE 8th Result 2025Volkswagen Golf GTIiQOO Neo 10 PriceBelrise Industries IPO Allotment\\n\\nIn Case you missed it\\n\\nMORE\\n\\nconfidential IPOsupplemental security income SSIStock Market Today FuturesPhiladelphia Shootingfrench president wifeBengaluru Rain ForecastJharkhand Board ResultUPSC CSEDave ShapiroStock Market TodayBitcoin Pizza DayEngland Zimbabwe Test Live StreamingHeart Lamp Banu MushtaqCHSE Odisha 12th ResultHoroscope TodayMortgage Rate Today 20 MayAP ICET Results Check atcets.apsche.ap.gov.in\\n\\nMORE\\n\\nTop Searched Companies\\n\\nIRFC share priceSuzlon share priceIREDA share priceTATA Motors share priceYes bank share priceHDFC Bank share priceNHPC share priceRVNL share priceSBI share priceTata power share priceTata steel share priceAdani power share pricePaytm share pricePNB share priceZomato share priceBEL share priceBHEL share priceInfosys share priceIRCTC share priceITC share priceJIO finance share priceLIC share priceReliance share priceHAL share priceJP Power share priceNBCC share priceTCS share priceVedanta share priceWipro share priceIOC share priceIrcon share priceSAIL share priceSJVN share priceGAIL share priceHUDCO share priceREC share priceReliance Power share priceTata Technologies share priceVodafone idea share priceAdani Enterprises share priceAdani Green share priceAdani Port share priceAshok Leyland share priceBank of Baroda share priceBSE share priceCanara Bank share priceCDSL share priceCoal India share priceHFCL share priceIDFC First Bank share price\\n\\nTop Calculators\\n\\nMORE\\n\\nStandard Deviation CalculatorIncome Tax CalculatorAge CalculatorSIP CalculatorTime CalculatorBMI CalculatorGPA CalculatorStatistics CalculatorFraction CalculatorDiabetes Risk CalculatorDate CalculatorLog Calculator\\n\\nMORE\\n\\nTop Definitions\\n\\nUnion BudgetRandom SamplingPseudocodeTradeMicroeconomics\\n\\nMORE\\n\\nTop Slideshow\\n\\nYouve Been Doing It WrongHow Much Standard Deduction Will Family Pensioners GetHg Infra EngineeringIncome Tax Rule Change Salaried Individuals Pensioners Must KnowHg Infra EngineeringIncome Tax Rule Change Salaried Individuals Pensioners Must KnowYouve Been Doing It WrongHow Much Standard Deduction Will Family Pensioners GetItcItc\\n\\nMORE\\n\\nTop Prime Articles\\n\\nYuan Internationalisation Sees Significant Progress In 2022 Can It Maintain The MomentumCan Mauritius African Odyssey Steer Clear Of The Hindenburg Adani Sized IcebergHirakud Industrial Works Insolvency How Hindalco And Hirakud Workers Union Unveiled A Staged ActAfter Dodging Bankruptcy Thrice In Five Years Rolta India Has Been Dragged To Insolvency Court Again3 Insights To Kick Start Your Day Featuring Mukesh Ambani Repeating Old PlaybookHow To Ensure The Fair Use Of The Data That Powers Conversational Generative Ai Tools Like Chatgpt4 Insights To Kick Start Your Day Featuring Tatas Ev Biz Stake Sale4 Insights To Kick Start Your Day Featuring Airtels Big Potential Deal With PaytmAdani Fiasco Interest Rates Geopolitical Tensions Why 2023 Will Be A Tough Year For InvestorsLithium Found In Jk Heres How To Turn It Into A Catalyst For Indias Clean Energy Mission\\n\\nMORE\\n\\nPrivate Companies\\n\\nMacleods Pharmaceuticals LtdPatron Exim Private LimitedForever Living Products India Private LimitedAch Management Consultants Private LimitedZuventus Healthcare Limited\\n\\nMORE\\n\\nTop Commodities\\n\\nCrudeoil RateGold Rate In KolkataZinc RateKapas RateNickel RateCotton Rate\\n\\nMORE\\n\\nTop Story Listing\\n\\nUae VisaRbi PolicyFixed DepositUidaiPulwama Attack\\n\\nLatest News\\n\\n\"Are we beggars who will beg from Samajwadi Party\": Congress MP Masood rejects dependency in 2027 UP Assembly polls18 Naxals, including top Battalion members, surrender in Chhattisgarh\\'s SukmaSC asks election committee of SCBA polls to conduct recounting of votes for EC membersU.S. halts new student visa interviews amid plans for social media screening, claims reportsAlarming trend as AI eats into jobs: Tech companies\\' hiring of new grads has plummeted over 50% since 2019States repurpose Smart City SPVs post-mission“There\\'s fire all over the place”: Wildfire forces mass evacuation of Pelican Narrows as only escape route threatenedPresident Murmu hosts dinner for newly sworn-in Chief Justice of IndiaAfter kill switches in solar panels, is China fitting data-collection technology on Pirelli tires, U.S. warns?Netflix TUDUM 2025: Global streaming date, time, films, TV shows and celebritiesRussian Facebook VKontakte on fire as thousands of users accuse Trump of having dementia, call him a clownBSF thwarts infiltration bid by BangladeshisNITI Aayog maps freight shift to boost container cargo by railGoyal asks exporters to leverage FTAs, talks non-tariff barriersFDI inflows hit 3-yr high, grow 14% to $81 b in FY25\\n\\nFollow us on:\\n\\nDownload ET App:\\n\\nsubscribe to our newsletter\\n\\nCopyright © 2025 Bennett, Coleman & Co. Ltd. All rights reserved. For reprint rights: Times Syndication Service\\n\\nStories you might be interested in\\n\\nSubscribe to ourET Investment Opportunities'"
      ]
     },
     "execution_count": 23,
     "metadata": {},
     "output_type": "execute_result"
    }
   ],
   "source": [
    "data[0].page_content"
   ]
  },
  {
   "cell_type": "code",
   "execution_count": 24,
   "id": "a94c3278",
   "metadata": {},
   "outputs": [
    {
     "name": "stdout",
     "output_type": "stream",
     "text": [
      "Dan Brown\n",
      "' s next global, multi-tiered thriller finds protagonist\n",
      "Robert Langdon\n",
      "journeying from Prague to New York to London as he evades a would-be assassin and ponders the depths of human consciousness.\n",
      "Doubleday announced Wednesday that \"\n",
      "The Secret of Secrets\n",
      ",\" his first Langdon novel since \"Origin\" came out in 2017, will be published Sept. 9. Brown, best known for the blockbuster \"\n",
      "The Da Vinci Code\n",
      ",\" is calling it his \"most intricately plotted and ambitious novel.\"\n",
      "\"Writing it has been an unforgettable journey of discovery,\" he said in a statement.\n",
      "Brown's new novel begins with Langdon, the Harvard symbologist, in Prague. According to Doubleday, he plans to see a lecture by noetic scientist and emerging love interest Katherine Solomon, only to have her talk become a murder scene and for Solomon to disappear.\n",
      "ALSO READ:\n",
      "California to become an independent country and leave US? A big initiative is already cleared\n",
      "Live Events\n",
      "\"As the plot expands into London and New York, Langdon desperately searches for Katherine . . . and for answers,\" Doubleday announced. \"In a thrilling race through the dual worlds of futuristic science and mystical lore, he uncovers a shocking truth about a secret project that will forever change the way we think about the human mind.\"\n",
      "Brown has set previous books in France, Italy and Spain among other countries and researches his locations in person. He said in a statement that his fascination with Prague \"began with its deep history of mysticism and the occult. It is a labyrinth of enigmatic sites - an ideal backdrop for a Robert Langdon thriller -- a city of secrets, both ancient and modern.\"\n",
      "Brown added that \"The Secret of Secrets\" was also a chance to indulge another longtime obsession - the mind itself.\n",
      "ALSO READ:\n",
      "Justin Baldoni, Blake Lively exchanged 'affectionate' messages before things took a U-turn? All details\n",
      "\"I happen to believe we are on the cusp of a major revolution in the way we think about our brains and our relationships to each other,\" he said. \"Cutting-edge science is now exploring advanced models of consciousness that seem poised to explain some of the mind's deepest mysteries. I chose this topic because I find it irresistibly compelling, and also because it is relevant to every single one of us.\"\n",
      "Doubleday plans to release the book in at least a dozen countries, including Czech Republic, Turkey, Spain and Finland. Brown's other novels include \"Angels & Demons,\" \"The Lost Symbol\" and \"Inferno.\"\n",
      "(You can now subscribe to our\n",
      "Economic Times WhatsApp channel\n",
      ")\n"
     ]
    }
   ],
   "source": [
    "import requests\n",
    "from bs4 import BeautifulSoup\n",
    "\n",
    "url = \"https://economictimes.indiatimes.com/news/international/global-trends/us-news-dan-browns-next-thriller-the-secret-of-secrets-published-september-9/articleshow/117697275.cms\"\n",
    "\n",
    "headers = {\n",
    "    \"User-Agent\": \"Mozilla/5.0\"\n",
    "}\n",
    "\n",
    "response = requests.get(url, headers=headers)\n",
    "soup = BeautifulSoup(response.content, 'html.parser')\n",
    "\n",
    "# Extract main article content\n",
    "article_div = soup.find(\"div\", {\"class\": \"artText\"})\n",
    "\n",
    "if article_div:\n",
    "    text = article_div.get_text(separator='\\n', strip=True)\n",
    "    print(text)\n",
    "else:\n",
    "    print(\"Could not find article content.\")\n"
   ]
  },
  {
   "cell_type": "markdown",
   "id": "51738148",
   "metadata": {},
   "source": [
    "2. **Create Chunks**"
   ]
  },
  {
   "cell_type": "code",
   "execution_count": 25,
   "id": "20d90223",
   "metadata": {},
   "outputs": [
    {
     "name": "stderr",
     "output_type": "stream",
     "text": [
      "Created a chunk of size 392, which is longer than the specified 200\n",
      "Created a chunk of size 474, which is longer than the specified 200\n",
      "Created a chunk of size 369, which is longer than the specified 200\n",
      "Created a chunk of size 337, which is longer than the specified 200\n",
      "Created a chunk of size 366, which is longer than the specified 200\n",
      "Created a chunk of size 837, which is longer than the specified 200\n",
      "Created a chunk of size 210, which is longer than the specified 200\n",
      "Created a chunk of size 210, which is longer than the specified 200\n",
      "Created a chunk of size 368, which is longer than the specified 200\n",
      "Created a chunk of size 384, which is longer than the specified 200\n",
      "Created a chunk of size 957, which is longer than the specified 200\n",
      "Created a chunk of size 214, which is longer than the specified 200\n",
      "Created a chunk of size 332, which is longer than the specified 200\n",
      "Created a chunk of size 870, which is longer than the specified 200\n",
      "Created a chunk of size 1226, which is longer than the specified 200\n"
     ]
    },
    {
     "name": "stdout",
     "output_type": "stream",
     "text": [
      "Number of chunks: 53\n"
     ]
    },
    {
     "data": {
      "text/plain": [
       "53"
      ]
     },
     "execution_count": 25,
     "metadata": {},
     "output_type": "execute_result"
    }
   ],
   "source": [
    "from langchain.text_splitter import CharacterTextSplitter\n",
    "splitter = CharacterTextSplitter(separator=\"\\n\", chunk_size=200, chunk_overlap=0)\n",
    "\n",
    "chunks = splitter.split_text(data[0].page_content)\n",
    "print(f\"Number of chunks: {len(chunks)}\")\n",
    "\n",
    "len(chunks)"
   ]
  },
  {
   "cell_type": "code",
   "execution_count": 26,
   "id": "77c70b03",
   "metadata": {},
   "outputs": [
    {
     "name": "stdout",
     "output_type": "stream",
     "text": [
      "Number of chunks: 84\n",
      "194 Benchmarks\n",
      "\n",
      "Nifty24,826.20-174.96\n",
      "\n",
      "FEATURED FUNDS\n",
      "\n",
      "184 5Y Return\n",
      "\n",
      "22.92 %\n",
      "\n",
      "Invest Now\n",
      "\n",
      "The Economic Times\n",
      "142 Business News›News›International›Global Trends›Dan\n",
      "186 The Economic Times daily newspaper is available on\n",
      "193 Dan Brown's next thriller, 'The Secret of Secrets,\n",
      "79 Share\n",
      "\n",
      "Font Size\n",
      "\n",
      "AbcSmall\n",
      "\n",
      "AbcMedium\n",
      "\n",
      "AbcLarge\n",
      "\n",
      "S\n",
      "196 Dan Brown's upcoming thriller, \"The Secret of Secr\n",
      "195 murder at a lecture by noetic scientist Katherine \n",
      "190 Dan Brown' s next global, multi-tiered thriller fi\n",
      "196 consciousness. Doubleday announced Wednesday that \n",
      "86 \"The Da Vinci Code,\" is calling it his \"most intri\n",
      "84 \"Writing it has been an unforgettable journey of d\n",
      "198 Brown's new novel begins with Langdon, the Harvard\n",
      "170 have her talk become a murder scene and for Solomo\n",
      "20 ET logo\n",
      "\n",
      "Live Events\n",
      "193 \"As the plot expands into London and New York, Lan\n",
      "143 science and mystical lore, he uncovers a shocking \n",
      "194 Brown has set previous books in France, Italy and \n",
      "171 history of mysticism and the occult. It is a labyr\n",
      "196 Brown added that \"The Secret of Secrets\" was also \n",
      "193 things took a U-turn? All details \"I happen to bel\n",
      "194 science is now exploring advanced models of consci\n",
      "199 because it is relevant to every single one of us.\"\n",
      "51 \"Angels & Demons,\" \"The Lost Symbol\" and \"Inferno.\n",
      "81 (You can now subscribe to our Economic Times Whats\n",
      "197 The Secret of SecretsDan BrownRobert LangdonDan Br\n",
      "12 brown origin\n",
      "194 (Catch all the Business News, Breaking News, Budge\n",
      "81 (You can now subscribe to our Economic Times Whats\n",
      "197 The Secret of SecretsDan BrownRobert LangdonDan Br\n",
      "12 brown origin\n",
      "194 (Catch all the Business News, Breaking News, Budge\n",
      "141 Prime ExclusivesInvestment IdeasStock Report Pluse\n",
      "194 ET Prime Unicorn 100: Growth slowed for India’s le\n",
      "144 ET Prime Unicorn 100: A fifth of Indian unicorns s\n",
      "142 How this century-old Tata company is getting ready\n",
      "140 The BrahMos link that fired up this defence stock \n",
      "197 Stock Radar: SBI Life breaks out from a Pennant fo\n",
      "181 View all Stories\n",
      "\n",
      "Videos\n",
      "\n",
      "Image for Tech layoffs s\n",
      "155 RFK Jr. ends COVID-19 vaccine recommendation for..\n",
      "168 Image for Eyewitnesses recount horror of Liverpool\n",
      "132 Is King Charles the 'Trump Whisperer?'\n",
      "\n",
      "Image for \n",
      "196 Image for King Charles in Canada: Carney's first s\n",
      "172 Is Trump targeting Harvard because it rejected Bar\n",
      "137 Image for Sen Moreno grills Hawaii Gov. over COVID\n",
      "181 US halts student visa interviews amid social media\n",
      "98 Elden Ring: Nightreignarabella stantonSSI June 202\n",
      "197 U.S. stock market futures today Top gainer top Los\n",
      "186 NYT Strands hints and answerStranger Things Season\n",
      "128 Oil Price FallNYT ConnectionsToday Wordle answerRe\n",
      "188 JAC 10th Result Livearabella stantonConfidential I\n",
      "179 PriceBorana Weaves Share PriceSensex Today LIVE Up\n",
      "27 In Case you missed it\n",
      "\n",
      "MORE\n",
      "193 confidential IPOsupplemental security income SSISt\n",
      "190 TodayBitcoin Pizza DayEngland Zimbabwe Test Live S\n",
      "28 MORE\n",
      "\n",
      "Top Searched Companies\n",
      "194 IRFC share priceSuzlon share priceIREDA share pric\n",
      "198 share priceAdani power share pricePaytm share pric\n",
      "195 priceReliance share priceHAL share priceJP Power s\n",
      "191 share priceHUDCO share priceREC share priceRelianc\n",
      "175 priceAshok Leyland share priceBank of Baroda share\n",
      "21 Top Calculators\n",
      "\n",
      "MORE\n",
      "189 Standard Deviation CalculatorIncome Tax Calculator\n",
      "24 CalculatorLog Calculator\n",
      "100 MORE\n",
      "\n",
      "Top Definitions\n",
      "\n",
      "Union BudgetRandom Sampling\n",
      "198 Youve Been Doing It WrongHow Much Standard Deducti\n",
      "133 Change Salaried Individuals Pensioners Must KnowYo\n",
      "24 MORE\n",
      "\n",
      "Top Prime Articles\n",
      "191 Yuan Internationalisation Sees Significant Progres\n",
      "195 Insolvency How Hindalco And Hirakud Workers Union \n",
      "196 Your Day Featuring Mukesh Ambani Repeating Old Pla\n",
      "187 Tatas Ev Biz Stake Sale4 Insights To Kick Start Yo\n",
      "97 InvestorsLithium Found In Jk Heres How To Turn It \n",
      "194 MORE\n",
      "\n",
      "Private Companies\n",
      "\n",
      "Macleods Pharmaceuticals \n",
      "187 MORE\n",
      "\n",
      "Top Commodities\n",
      "\n",
      "Crudeoil RateGold Rate In K\n",
      "199 \"Are we beggars who will beg from Samajwadi Party\"\n",
      "195 election committee of SCBA polls to conduct recoun\n",
      "194 into jobs: Tech companies' hiring of new grads has\n",
      "197 Pelican Narrows as only escape route threatenedPre\n",
      "198 on Pirelli tires, U.S. warns?Netflix TUDUM 2025: G\n",
      "197 call him a clownBSF thwarts infiltration bid by Ba\n",
      "40 hit 3-yr high, grow 14% to $81 b in FY25\n",
      "173 Follow us on:\n",
      "\n",
      "Download ET App:\n",
      "\n",
      "subscribe to our \n",
      "79 Stories you might be interested in\n",
      "\n",
      "Subscribe to o\n"
     ]
    }
   ],
   "source": [
    "from langchain.text_splitter import RecursiveCharacterTextSplitter\n",
    "r_splitter = RecursiveCharacterTextSplitter(\n",
    "    chunk_size=200,\n",
    "    chunk_overlap=0,\n",
    "    length_function=len\n",
    ")\n",
    "\n",
    "r_chunks = r_splitter.split_text(data[0].page_content)\n",
    "print(f\"Number of chunks: {len(r_chunks)}\")\n",
    "\n",
    "for i, chunk in enumerate(r_chunks):\n",
    "    print(len(chunk), chunk[:50])  # Print first 50 characters of each chunk\n"
   ]
  },
  {
   "cell_type": "code",
   "execution_count": 27,
   "id": "20b37e33",
   "metadata": {},
   "outputs": [
    {
     "data": {
      "text/plain": [
       "['Benchmarks\\n\\nNifty24,826.20-174.96\\n\\nFEATURED FUNDS\\n\\n★★★★★\\n\\nUTI Aggressive Hybrid Fund Regular Plan-Growth\\n\\n5Y Return\\n\\n24.05 %\\n\\nInvest Now\\n\\nFEATURED FUNDS\\n\\n★★★★★\\n\\nHSBC Large Cap Fund Direct-Growth',\n",
       " \"5Y Return\\n\\n22.92 %\\n\\nInvest Now\\n\\nThe Economic Times\\n\\nNews\\n\\nEnglish EditionEnglish Editionहिन्दीગુજરાતીमराठीবাংলাಕನ್ನಡമലയാളംதமிழ்తెలుగు\\n\\n| Today's ePaper\\n\\nMy Watchlist Subscribe\\n\\nSign In\",\n",
       " \"Business News›News›International›Global Trends›Dan Brown's next thriller, 'The Secret of Secrets,' to be published on this date. Check details\",\n",
       " \"The Economic Times daily newspaper is available online now.\\n\\nRead Today's Paper\\n\\nDan Brown's next thriller, 'The Secret of Secrets,' to be published on this date. Check details\\n\\nSECTIONS\",\n",
       " \"Dan Brown's next thriller, 'The Secret of Secrets,' to be published on this date. Check details\\n\\nBy APLast Updated: Jan 29, 2025, 09:46:00 PM IST\\n\\nRate Story\\n\\nWhatsapp Follow Channel\\n\\nFollow us\",\n",
       " 'Share\\n\\nFont Size\\n\\nAbcSmall\\n\\nAbcMedium\\n\\nAbcLarge\\n\\nSave\\n\\nPrint\\n\\nComment\\n\\nSynopsis',\n",
       " 'Dan Brown\\'s upcoming thriller, \"The Secret of Secrets,\" follows Robert Langdon across Prague, New York, and London as he evades an assassin and delves into human consciousness. The novel entails a',\n",
       " \"murder at a lecture by noetic scientist Katherine Solomon, prompting Langdon's quest. Releasing on Sept. 9, the book promises an intricate plot, intertwining futuristic science and mystical lore.\",\n",
       " \"Dan Brown' s next global, multi-tiered thriller finds protagonist Robert Langdon journeying from Prague to New York to London as he evades a would-be assassin and ponders the depths of human\",\n",
       " 'consciousness. Doubleday announced Wednesday that \"The Secret of Secrets,\" his first Langdon novel since \"Origin\" came out in 2017, will be published Sept. 9. Brown, best known for the blockbuster',\n",
       " '\"The Da Vinci Code,\" is calling it his \"most intricately plotted and ambitious novel.\"',\n",
       " '\"Writing it has been an unforgettable journey of discovery,\" he said in a statement.',\n",
       " \"Brown's new novel begins with Langdon, the Harvard symbologist, in Prague. According to Doubleday, he plans to see a lecture by noetic scientist and emerging love interest Katherine Solomon, only to\",\n",
       " 'have her talk become a murder scene and for Solomon to disappear. ALSO READ: California to become an independent country and leave US? A big initiative is already cleared',\n",
       " 'ET logo\\n\\nLive Events',\n",
       " '\"As the plot expands into London and New York, Langdon desperately searches for Katherine . . . and for answers,\" Doubleday announced. \"In a thrilling race through the dual worlds of futuristic',\n",
       " 'science and mystical lore, he uncovers a shocking truth about a secret project that will forever change the way we think about the human mind.\"',\n",
       " 'Brown has set previous books in France, Italy and Spain among other countries and researches his locations in person. He said in a statement that his fascination with Prague \"began with its deep',\n",
       " 'history of mysticism and the occult. It is a labyrinth of enigmatic sites - an ideal backdrop for a Robert Langdon thriller -- a city of secrets, both ancient and modern.\"',\n",
       " 'Brown added that \"The Secret of Secrets\" was also a chance to indulge another longtime obsession - the mind itself. ALSO READ: Justin Baldoni, Blake Lively exchanged \\'affectionate\\' messages before',\n",
       " 'things took a U-turn? All details \"I happen to believe we are on the cusp of a major revolution in the way we think about our brains and our relationships to each other,\" he said. \"Cutting-edge',\n",
       " \"science is now exploring advanced models of consciousness that seem poised to explain some of the mind's deepest mysteries. I chose this topic because I find it irresistibly compelling, and also\",\n",
       " 'because it is relevant to every single one of us.\" Doubleday plans to release the book in at least a dozen countries, including Czech Republic, Turkey, Spain and Finland. Brown\\'s other novels include',\n",
       " '\"Angels & Demons,\" \"The Lost Symbol\" and \"Inferno.\"',\n",
       " '(You can now subscribe to our Economic Times WhatsApp channel)\\n\\nRead More News on',\n",
       " 'The Secret of SecretsDan BrownRobert LangdonDan Brown newsDan Brown new thrillerDan Brown the secret of secretsdan brown the secret of secrets publishing datedan brown next bookthe da vinci codedan',\n",
       " 'brown origin',\n",
       " '(Catch all the Business News, Breaking News, Budget 2025 Events and Latest News Updates on The Economic Times.)\\n\\nSubscribe to The Economic Times Prime and read the ET ePaper online.\\n\\n...moreless',\n",
       " '(You can now subscribe to our Economic Times WhatsApp channel)\\n\\nRead More News on',\n",
       " 'The Secret of SecretsDan BrownRobert LangdonDan Brown newsDan Brown new thrillerDan Brown the secret of secretsdan brown the secret of secrets publishing datedan brown next bookthe da vinci codedan',\n",
       " 'brown origin',\n",
       " '(Catch all the Business News, Breaking News, Budget 2025 Events and Latest News Updates on The Economic Times.)\\n\\nSubscribe to The Economic Times Prime and read the ET ePaper online.\\n\\n...moreless',\n",
       " 'Prime ExclusivesInvestment IdeasStock Report PlusePaperWealth Edition\\n\\nET Prime Unicorn 100: Growth slowed for India’s leading startups:Image',\n",
       " 'ET Prime Unicorn 100: Growth slowed for India’s leading startups\\n\\nUncle Sam vs. Microsoft: Which is a safer bet to park money?:Image\\n\\nUncle Sam vs. Microsoft: Which is a safer bet to park money?',\n",
       " 'ET Prime Unicorn 100: A fifth of Indian unicorns saw revenue decline:Image\\n\\nET Prime Unicorn 100: A fifth of Indian unicorns saw revenue decline',\n",
       " 'How this century-old Tata company is getting ready for the next 100:Image\\n\\nHow this century-old Tata company is getting ready for the next 100',\n",
       " 'The BrahMos link that fired up this defence stock 45% in one month:Image\\n\\nThe BrahMos link that fired up this defence stock 45% in one month',\n",
       " 'Stock Radar: SBI Life breaks out from a Pennant formation on daily charts; what :Image\\n\\nStock Radar: SBI Life breaks out from a Pennant formation on daily charts; what should investors do?\\n\\n1\\n\\n2\\n\\n3',\n",
       " 'View all Stories\\n\\nVideos\\n\\nImage for Tech layoffs surge | Market bleeds again\\n\\nTech layoffs surge | Market bleeds again\\n\\nImage for RFK Jr. ends COVID-19 vaccine recommendation for...',\n",
       " \"RFK Jr. ends COVID-19 vaccine recommendation for...\\n\\nImage for Rubio calls out China for 'siphoning' US tech\\n\\nRubio calls out China for 'siphoning' US tech\",\n",
       " \"Image for Eyewitnesses recount horror of Liverpool parade crash\\n\\nEyewitnesses recount horror of Liverpool parade crash\\n\\nImage for Is King Charles the 'Trump Whisperer?'\",\n",
       " \"Is King Charles the 'Trump Whisperer?'\\n\\nImage for Lavrov rips into Europe over Ukraine war\\n\\nLavrov rips into Europe over Ukraine war\",\n",
       " \"Image for King Charles in Canada: Carney's first speech in Parliament\\n\\nKing Charles in Canada: Carney's first speech in Parliament\\n\\nImage for Is Trump targeting Harvard because it rejected Barron?\",\n",
       " \"Is Trump targeting Harvard because it rejected Barron?\\n\\nImage for Trump-BiBi 'fight': All is not well btw old friends?\\n\\nTrump-BiBi 'fight': All is not well btw old friends?\",\n",
       " 'Image for Sen Moreno grills Hawaii Gov. over COVID lockdowns\\n\\nSen Moreno grills Hawaii Gov. over COVID lockdowns\\n\\n1\\n\\n2\\n\\n3\\n\\nLatest from ET',\n",
       " 'US halts student visa interviews amid social media screening plans\\n\\nErdogan & family guiding Turkey-Pakistan axis\\n\\nCan Ambani do mutual fund magic with Aladdin?\\n\\nTrending World News',\n",
       " 'Elden Ring: Nightreignarabella stantonSSI June 2025 paymentNYT Connections today hints and answers',\n",
       " 'U.S. stock market futures today Top gainer top LosersCharles Rangel diefrench president wifeApple stock falls\\n\\nMarvel Rivals Season 2.5 updateTrump Big Beautiful BillSan Diego plane crashbaba vanga',\n",
       " 'NYT Strands hints and answerStranger Things Season 5Covid 19Bitcoin price today BTC\\n\\nNYT Connections today hints and answersGold Price TodayWordle today answer and HintsU.S. stock market',\n",
       " 'Oil Price FallNYT ConnectionsToday Wordle answerReal id\\n\\nangel numbers\\n\\nThe Economic Times\\n\\nThe Economic Times\\n\\nHot on Web\\n\\nMORE',\n",
       " 'JAC 10th Result Livearabella stantonConfidential IPOSSIU.S. stock market futures todayITR filing last date extendedIncome Tax ReturnWhy is stock market falling todayOlectra Greentech Share',\n",
       " 'PriceBorana Weaves Share PriceSensex Today LIVE UpdatesMumbai Rains Live Updatesmacron wifeRBSE 8th Result 2025Volkswagen Golf GTIiQOO Neo 10 PriceBelrise Industries IPO Allotment',\n",
       " 'In Case you missed it\\n\\nMORE',\n",
       " 'confidential IPOsupplemental security income SSIStock Market Today FuturesPhiladelphia Shootingfrench president wifeBengaluru Rain ForecastJharkhand Board ResultUPSC CSEDave ShapiroStock Market',\n",
       " 'TodayBitcoin Pizza DayEngland Zimbabwe Test Live StreamingHeart Lamp Banu MushtaqCHSE Odisha 12th ResultHoroscope TodayMortgage Rate Today 20 MayAP ICET Results Check atcets.apsche.ap.gov.in',\n",
       " 'MORE\\n\\nTop Searched Companies',\n",
       " 'IRFC share priceSuzlon share priceIREDA share priceTATA Motors share priceYes bank share priceHDFC Bank share priceNHPC share priceRVNL share priceSBI share priceTata power share priceTata steel',\n",
       " 'share priceAdani power share pricePaytm share pricePNB share priceZomato share priceBEL share priceBHEL share priceInfosys share priceIRCTC share priceITC share priceJIO finance share priceLIC share',\n",
       " 'priceReliance share priceHAL share priceJP Power share priceNBCC share priceTCS share priceVedanta share priceWipro share priceIOC share priceIrcon share priceSAIL share priceSJVN share priceGAIL',\n",
       " 'share priceHUDCO share priceREC share priceReliance Power share priceTata Technologies share priceVodafone idea share priceAdani Enterprises share priceAdani Green share priceAdani Port share',\n",
       " 'priceAshok Leyland share priceBank of Baroda share priceBSE share priceCanara Bank share priceCDSL share priceCoal India share priceHFCL share priceIDFC First Bank share price',\n",
       " 'Top Calculators\\n\\nMORE',\n",
       " 'Standard Deviation CalculatorIncome Tax CalculatorAge CalculatorSIP CalculatorTime CalculatorBMI CalculatorGPA CalculatorStatistics CalculatorFraction CalculatorDiabetes Risk CalculatorDate',\n",
       " 'CalculatorLog Calculator',\n",
       " 'MORE\\n\\nTop Definitions\\n\\nUnion BudgetRandom SamplingPseudocodeTradeMicroeconomics\\n\\nMORE\\n\\nTop Slideshow',\n",
       " 'Youve Been Doing It WrongHow Much Standard Deduction Will Family Pensioners GetHg Infra EngineeringIncome Tax Rule Change Salaried Individuals Pensioners Must KnowHg Infra EngineeringIncome Tax Rule',\n",
       " 'Change Salaried Individuals Pensioners Must KnowYouve Been Doing It WrongHow Much Standard Deduction Will Family Pensioners GetItcItc',\n",
       " 'MORE\\n\\nTop Prime Articles',\n",
       " 'Yuan Internationalisation Sees Significant Progress In 2022 Can It Maintain The MomentumCan Mauritius African Odyssey Steer Clear Of The Hindenburg Adani Sized IcebergHirakud Industrial Works',\n",
       " 'Insolvency How Hindalco And Hirakud Workers Union Unveiled A Staged ActAfter Dodging Bankruptcy Thrice In Five Years Rolta India Has Been Dragged To Insolvency Court Again3 Insights To Kick Start',\n",
       " 'Your Day Featuring Mukesh Ambani Repeating Old PlaybookHow To Ensure The Fair Use Of The Data That Powers Conversational Generative Ai Tools Like Chatgpt4 Insights To Kick Start Your Day Featuring',\n",
       " 'Tatas Ev Biz Stake Sale4 Insights To Kick Start Your Day Featuring Airtels Big Potential Deal With PaytmAdani Fiasco Interest Rates Geopolitical Tensions Why 2023 Will Be A Tough Year For',\n",
       " 'InvestorsLithium Found In Jk Heres How To Turn It Into A Catalyst For Indias Clean Energy Mission',\n",
       " 'MORE\\n\\nPrivate Companies\\n\\nMacleods Pharmaceuticals LtdPatron Exim Private LimitedForever Living Products India Private LimitedAch Management Consultants Private LimitedZuventus Healthcare Limited',\n",
       " 'MORE\\n\\nTop Commodities\\n\\nCrudeoil RateGold Rate In KolkataZinc RateKapas RateNickel RateCotton Rate\\n\\nMORE\\n\\nTop Story Listing\\n\\nUae VisaRbi PolicyFixed DepositUidaiPulwama Attack\\n\\nLatest News',\n",
       " '\"Are we beggars who will beg from Samajwadi Party\": Congress MP Masood rejects dependency in 2027 UP Assembly polls18 Naxals, including top Battalion members, surrender in Chhattisgarh\\'s SukmaSC asks',\n",
       " 'election committee of SCBA polls to conduct recounting of votes for EC membersU.S. halts new student visa interviews amid plans for social media screening, claims reportsAlarming trend as AI eats',\n",
       " \"into jobs: Tech companies' hiring of new grads has plummeted over 50% since 2019States repurpose Smart City SPVs post-mission“There's fire all over the place”: Wildfire forces mass evacuation of\",\n",
       " 'Pelican Narrows as only escape route threatenedPresident Murmu hosts dinner for newly sworn-in Chief Justice of IndiaAfter kill switches in solar panels, is China fitting data-collection technology',\n",
       " 'on Pirelli tires, U.S. warns?Netflix TUDUM 2025: Global streaming date, time, films, TV shows and celebritiesRussian Facebook VKontakte on fire as thousands of users accuse Trump of having dementia,',\n",
       " 'call him a clownBSF thwarts infiltration bid by BangladeshisNITI Aayog maps freight shift to boost container cargo by railGoyal asks exporters to leverage FTAs, talks non-tariff barriersFDI inflows',\n",
       " 'hit 3-yr high, grow 14% to $81 b in FY25',\n",
       " 'Follow us on:\\n\\nDownload ET App:\\n\\nsubscribe to our newsletter\\n\\nCopyright © 2025 Bennett, Coleman & Co. Ltd. All rights reserved. For reprint rights: Times Syndication Service',\n",
       " 'Stories you might be interested in\\n\\nSubscribe to ourET Investment Opportunities']"
      ]
     },
     "execution_count": 27,
     "metadata": {},
     "output_type": "execute_result"
    }
   ],
   "source": [
    "r_chunks"
   ]
  },
  {
   "cell_type": "markdown",
   "id": "6e397829",
   "metadata": {},
   "source": [
    "3. **Store in Vector DB**"
   ]
  },
  {
   "cell_type": "code",
   "execution_count": 38,
   "id": "778b140c",
   "metadata": {},
   "outputs": [],
   "source": [
    "import pandas as pd\n",
    "pd.set_option('display.max_colwidth', 100)"
   ]
  },
  {
   "cell_type": "code",
   "execution_count": 39,
   "id": "e4f2094b",
   "metadata": {},
   "outputs": [
    {
     "data": {
      "text/plain": [
       "(11, 2)"
      ]
     },
     "execution_count": 39,
     "metadata": {},
     "output_type": "execute_result"
    }
   ],
   "source": [
    "df = pd.read_csv(\"sample_text.csv\")\n",
    "df.shape"
   ]
  },
  {
   "cell_type": "code",
   "execution_count": 40,
   "id": "9365d561",
   "metadata": {},
   "outputs": [
    {
     "data": {
      "text/html": [
       "<div>\n",
       "<style scoped>\n",
       "    .dataframe tbody tr th:only-of-type {\n",
       "        vertical-align: middle;\n",
       "    }\n",
       "\n",
       "    .dataframe tbody tr th {\n",
       "        vertical-align: top;\n",
       "    }\n",
       "\n",
       "    .dataframe thead th {\n",
       "        text-align: right;\n",
       "    }\n",
       "</style>\n",
       "<table border=\"1\" class=\"dataframe\">\n",
       "  <thead>\n",
       "    <tr style=\"text-align: right;\">\n",
       "      <th></th>\n",
       "      <th>category</th>\n",
       "      <th>text</th>\n",
       "    </tr>\n",
       "  </thead>\n",
       "  <tbody>\n",
       "    <tr>\n",
       "      <th>0</th>\n",
       "      <td>sports</td>\n",
       "      <td>The final score was 3-2 after a thrilling overtime.</td>\n",
       "    </tr>\n",
       "    <tr>\n",
       "      <th>1</th>\n",
       "      <td>politics</td>\n",
       "      <td>The senator announced a new policy initiative today.</td>\n",
       "    </tr>\n",
       "    <tr>\n",
       "      <th>2</th>\n",
       "      <td>technology</td>\n",
       "      <td>Apple is set to unveil its next iPhone next month.</td>\n",
       "    </tr>\n",
       "    <tr>\n",
       "      <th>3</th>\n",
       "      <td>entertainment</td>\n",
       "      <td>The movie received a standing ovation at the film festival.</td>\n",
       "    </tr>\n",
       "    <tr>\n",
       "      <th>4</th>\n",
       "      <td>health</td>\n",
       "      <td>Doctors recommend at least 30 minutes of exercise daily.</td>\n",
       "    </tr>\n",
       "    <tr>\n",
       "      <th>5</th>\n",
       "      <td>finance</td>\n",
       "      <td>Stock markets closed higher after a strong jobs report.</td>\n",
       "    </tr>\n",
       "    <tr>\n",
       "      <th>6</th>\n",
       "      <td>travel</td>\n",
       "      <td>Paris remains one of the most visited cities in the world.</td>\n",
       "    </tr>\n",
       "    <tr>\n",
       "      <th>7</th>\n",
       "      <td>science</td>\n",
       "      <td>NASA successfully launched its latest Mars rover.</td>\n",
       "    </tr>\n",
       "    <tr>\n",
       "      <th>8</th>\n",
       "      <td>education</td>\n",
       "      <td>Online learning platforms have seen a surge in enrollment.</td>\n",
       "    </tr>\n",
       "    <tr>\n",
       "      <th>9</th>\n",
       "      <td>environment</td>\n",
       "      <td>Climate activists rallied outside the city hall for new policies.</td>\n",
       "    </tr>\n",
       "    <tr>\n",
       "      <th>10</th>\n",
       "      <td>health</td>\n",
       "      <td>\"An apple has 300 calories per serving.\"</td>\n",
       "    </tr>\n",
       "  </tbody>\n",
       "</table>\n",
       "</div>"
      ],
      "text/plain": [
       "         category  \\\n",
       "0          sports   \n",
       "1        politics   \n",
       "2      technology   \n",
       "3   entertainment   \n",
       "4          health   \n",
       "5         finance   \n",
       "6          travel   \n",
       "7         science   \n",
       "8       education   \n",
       "9     environment   \n",
       "10         health   \n",
       "\n",
       "                                                                 text  \n",
       "0                 The final score was 3-2 after a thrilling overtime.  \n",
       "1                The senator announced a new policy initiative today.  \n",
       "2                  Apple is set to unveil its next iPhone next month.  \n",
       "3         The movie received a standing ovation at the film festival.  \n",
       "4            Doctors recommend at least 30 minutes of exercise daily.  \n",
       "5             Stock markets closed higher after a strong jobs report.  \n",
       "6          Paris remains one of the most visited cities in the world.  \n",
       "7                   NASA successfully launched its latest Mars rover.  \n",
       "8          Online learning platforms have seen a surge in enrollment.  \n",
       "9   Climate activists rallied outside the city hall for new policies.  \n",
       "10                           \"An apple has 300 calories per serving.\"  "
      ]
     },
     "execution_count": 40,
     "metadata": {},
     "output_type": "execute_result"
    }
   ],
   "source": [
    "df"
   ]
  },
  {
   "cell_type": "code",
   "execution_count": 41,
   "id": "de425eb7",
   "metadata": {},
   "outputs": [
    {
     "name": "stdout",
     "output_type": "stream",
     "text": [
      "Note: you may need to restart the kernel to use updated packages.\n"
     ]
    },
    {
     "data": {
      "text/plain": [
       "(11, 768)"
      ]
     },
     "execution_count": 41,
     "metadata": {},
     "output_type": "execute_result"
    }
   ],
   "source": [
    "%pip install --upgrade \"transformers\" \"sentence-transformers\" --quiet\n",
    "\n",
    "from sentence_transformers import SentenceTransformer\n",
    "encoder = SentenceTransformer('all-mpnet-base-v2')\n",
    "vectors = encoder.encode(df.text)\n",
    "vectors.shape"
   ]
  },
  {
   "cell_type": "code",
   "execution_count": 42,
   "id": "21f1a324",
   "metadata": {},
   "outputs": [],
   "source": [
    "import faiss\n",
    "index = faiss.IndexFlatL2(vectors.shape[1])\n",
    "index.add(vectors)"
   ]
  },
  {
   "cell_type": "code",
   "execution_count": 44,
   "id": "99519239",
   "metadata": {},
   "outputs": [
    {
     "name": "stdout",
     "output_type": "stream",
     "text": [
      "Rank 1:  \"An apple has 300 calories per serving.\" (Distance: 0.9626603126525879)\n",
      "Rank 2: Apple is set to unveil its next iPhone next month. (Distance: 1.537456750869751)\n",
      "Rank 3: Doctors recommend at least 30 minutes of exercise daily. (Distance: 1.5544425249099731)\n",
      "Rank 4: NASA successfully launched its latest Mars rover. (Distance: 1.8269846439361572)\n",
      "Rank 5: Paris remains one of the most visited cities in the world. (Distance: 1.8546236753463745)\n"
     ]
    }
   ],
   "source": [
    "search_vector = encoder.encode(\"An apple a day keeps the doctor away.\")\n",
    "D, I = index.search(search_vector.reshape(1, -1), k=5)\n",
    "for i, idx in enumerate(I[0]):\n",
    "    print(f\"Rank {i+1}: {df.iloc[idx].text} (Distance: {D[0][i]})\")"
   ]
  },
  {
   "cell_type": "markdown",
   "id": "52512c88",
   "metadata": {},
   "source": []
  }
 ],
 "metadata": {
  "kernelspec": {
   "display_name": "Python 3",
   "language": "python",
   "name": "python3"
  },
  "language_info": {
   "codemirror_mode": {
    "name": "ipython",
    "version": 3
   },
   "file_extension": ".py",
   "mimetype": "text/x-python",
   "name": "python",
   "nbconvert_exporter": "python",
   "pygments_lexer": "ipython3",
   "version": "3.13.4"
  }
 },
 "nbformat": 4,
 "nbformat_minor": 5
}
